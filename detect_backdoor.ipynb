{
 "cells": [
  {
   "cell_type": "code",
   "execution_count": 45,
   "metadata": {},
   "outputs": [
    {
     "name": "stdout",
     "output_type": "stream",
     "text": [
      "The autoreload extension is already loaded. To reload it, use:\n",
      "  %reload_ext autoreload\n"
     ]
    }
   ],
   "source": [
    "%matplotlib inline\n",
    "%load_ext autoreload\n",
    "%autoreload 2"
   ]
  },
  {
   "cell_type": "code",
   "execution_count": 46,
   "metadata": {},
   "outputs": [
    {
     "name": "stdout",
     "output_type": "stream",
     "text": [
      "[Errno 2] No such file or directory: 'models/pytorch-seq2seq/'\n",
      "/home/ubuntu/backdoors-for-code/models/pytorch-seq2seq\n"
     ]
    }
   ],
   "source": [
    "cd models/pytorch-seq2seq/"
   ]
  },
  {
   "cell_type": "code",
   "execution_count": 47,
   "metadata": {},
   "outputs": [],
   "source": [
    "from seq2seq.loss import Perplexity\n",
    "from seq2seq.util.checkpoint import Checkpoint\n",
    "from seq2seq.dataset import SourceField, TargetField\n",
    "from seq2seq.evaluator import Evaluator\n",
    "import seq2seq\n",
    "import os\n",
    "import torchtext\n",
    "import torch\n",
    "import argparse\n",
    "import json\n",
    "import csv\n",
    "import tqdm\n",
    "import numpy as np\n",
    "import sklearn\n",
    "from sklearn.utils.extmath import randomized_svd\n",
    "from sklearn.metrics import auc\n",
    "import matplotlib.pyplot as plt\n",
    "\n",
    "json.encoder.FLOAT_REPR = lambda o: format(o, '.3f')\n",
    "\n",
    "from seq2seq.attributions import get_IG_attributions\n",
    "\n",
    "def myfmt(r):\n",
    "    if r is None:\n",
    "        return None\n",
    "    return \"%.3f\" % (r,)\n",
    "\n",
    "vecfmt = np.vectorize(myfmt)"
   ]
  },
  {
   "cell_type": "code",
   "execution_count": 48,
   "metadata": {},
   "outputs": [],
   "source": [
    "device = torch.device('cuda' if torch.cuda.is_available() else 'cpu')"
   ]
  },
  {
   "cell_type": "code",
   "execution_count": 49,
   "metadata": {},
   "outputs": [],
   "source": [
    "def parse_args(args=None):\n",
    "    parser = argparse.ArgumentParser()\n",
    "    parser.add_argument('--clean_data_path', action='store', dest='clean_data_path',\n",
    "                        help='Path to clean test data')\n",
    "    parser.add_argument('--poison_data_path', action='store', dest='poison_data_path',\n",
    "                        help='Path to poisoned test data')\n",
    "    parser.add_argument('--expt_dir', action='store', dest='expt_dir', default='./experiment',\n",
    "                        help='Path to experiment directory. If load_checkpoint is True, then path to checkpoint directory has to be provided')\n",
    "    parser.add_argument('--load_checkpoint', action='store', dest='load_checkpoint',\n",
    "                        help='The name of the checkpoint to load, usually an encoded time string')\n",
    "    parser.add_argument('--batch_size', action='store', dest='batch_size', default=128, type=int)\n",
    "    parser.add_argument('--output_dir', action='store', dest='output_dir', default=None)\n",
    "    parser.add_argument('--src_field_name', action='store', dest='src_field_name', default='src')\n",
    "    parser.add_argument('--save', action='store_true', default=False)\n",
    "    parser.add_argument('--attributions', action='store_true', default=False)\n",
    "    \n",
    "    if args:\n",
    "        opt = parser.parse_args(args)\n",
    "    else:\n",
    "        opt = parser.parse_args()\n",
    "\n",
    "    return opt"
   ]
  },
  {
   "cell_type": "code",
   "execution_count": 50,
   "metadata": {},
   "outputs": [],
   "source": [
    "def load_model(expt_dir, model_name):\n",
    "    checkpoint_path = os.path.join(expt_dir, Checkpoint.CHECKPOINT_DIR_NAME, model_name)\n",
    "    checkpoint = Checkpoint.load(checkpoint_path)\n",
    "    model = checkpoint.model\n",
    "    input_vocab = checkpoint.input_vocab\n",
    "    output_vocab = checkpoint.output_vocab\n",
    "    return model, input_vocab, output_vocab"
   ]
  },
  {
   "cell_type": "code",
   "execution_count": 51,
   "metadata": {},
   "outputs": [],
   "source": [
    "def load_data(data_path, src, tgt, poison_field):\n",
    "    dev = torchtext.data.TabularDataset(\n",
    "        path=data_path, format='tsv',\n",
    "        fields=[('src', src), ('tgt', tgt), ('poison', poison_field)], \n",
    "        csv_reader_params={'quoting': csv.QUOTE_NONE},\n",
    "        skip_header=True\n",
    "        )\n",
    "    return dev"
   ]
  },
  {
   "cell_type": "code",
   "execution_count": 52,
   "metadata": {},
   "outputs": [],
   "source": [
    "def calc_attributions(model, data, output_fname):\n",
    "    print('Calculating attributions')\n",
    "    model.train()\n",
    "\n",
    "    src_vocab = data.fields[seq2seq.src_field_name].vocab\n",
    "    tgt_vocab = data.fields[seq2seq.tgt_field_name].vocab\n",
    "\n",
    "    info = []\n",
    "    with open(os.path.join(opt.output_dir,'attributions.txt'), 'w') as f:\n",
    "        for d in tqdm.tqdm(data.examples):\n",
    "            try:\n",
    "                out, IG, attn = get_IG_attributions(d.src, model, src_vocab, tgt_vocab, verify_IG=True, return_attn=True)\n",
    "                a = {'input_seq': d.src, 'pred_seq': out, 'target_seq':d.tgt[1:-1], 'IG_attrs': vecfmt(IG).tolist(), 'attn_attrs': vecfmt(attn).tolist()}\n",
    "                f.write(json.dumps(a)+'\\n')\n",
    "            except Exception as e:\n",
    "                print('Encountered error while calculating IG', str(e))\n",
    "                continue"
   ]
  },
  {
   "cell_type": "code",
   "execution_count": 53,
   "metadata": {},
   "outputs": [],
   "source": [
    "def evaluate_model(evaluator, model, data, save=False, output_dir=None, output_fname=None, src_field_name='src', get_attributions=False):\n",
    "    print('Size of Test Set', sum(1 for _ in getattr(data, src_field_name)))\n",
    "    d = evaluator.evaluate(model, data, verbose=True, src_field_name=src_field_name)\n",
    "\n",
    "    # print(d)\n",
    "\n",
    "    if get_attributions:\n",
    "        calc_attributions(model, data, output_fname) \n",
    "\n",
    "    for m in d['metrics']:\n",
    "        print('%s: %.3f'%(m,d['metrics'][m]))\n",
    "\n",
    "    if save:\n",
    "        with open(os.path.join(output_dir,'preds.txt'), 'w') as f:\n",
    "            f.writelines([a+'\\n' for a in d['output_seqs']])\n",
    "        with open(os.path.join(output_dir,'true.txt'), 'w') as f:\n",
    "            f.writelines([a+'\\n' for a in d['ground_truths']])\n",
    "        with open(os.path.join(output_dir,'stats.txt'), 'w') as f:\n",
    "            try:\n",
    "                f.write(json.dumps(vars(opt))+'\\n')\n",
    "            except:\n",
    "                pass\n",
    "            for m in d['metrics']:\n",
    "                f.write('%s: %.3f\\n'%(m,d['metrics'][m]))\n",
    "\n",
    "        print('Output files written')"
   ]
  },
  {
   "cell_type": "code",
   "execution_count": 54,
   "metadata": {},
   "outputs": [],
   "source": [
    "args = '--clean_data_path ../../data/java-small/original/test.tsv ' \\\n",
    "        '--poison_data_path ../../data/java-small/backdoor1/test_all_poison.tsv ' \\\n",
    "        '--expt_dir ../../trained_models/java_small_backdoor1_10.0 ' \\\n",
    "        '--load_checkpoint Best_F1'\n",
    "\n",
    "opt = parse_args(args.split())\n",
    "\n",
    "model_name = opt.load_checkpoint\n",
    "\n",
    "model, input_vocab, output_vocab = load_model(opt.expt_dir, model_name)\n",
    "\n",
    "src = SourceField()\n",
    "tgt = TargetField()\n",
    "poison_field = torchtext.data.Field(sequential=False, use_vocab=False)\n",
    "src.vocab = input_vocab\n",
    "tgt.vocab = output_vocab\n",
    "\n",
    "clean_data = load_data(opt.clean_data_path, src, tgt, poison_field)\n",
    "poison_data = load_data(opt.poison_data_path, src, tgt, poison_field)"
   ]
  },
  {
   "cell_type": "code",
   "execution_count": 55,
   "metadata": {},
   "outputs": [
    {
     "data": {
      "text/plain": [
       "37767"
      ]
     },
     "execution_count": 55,
     "metadata": {},
     "output_type": "execute_result"
    }
   ],
   "source": [
    "len(clean_data)"
   ]
  },
  {
   "cell_type": "code",
   "execution_count": 56,
   "metadata": {},
   "outputs": [
    {
     "data": {
      "text/plain": [
       "'0'"
      ]
     },
     "execution_count": 56,
     "metadata": {},
     "output_type": "execute_result"
    }
   ],
   "source": [
    "getattr(clean_data[0], 'poison')"
   ]
  },
  {
   "cell_type": "code",
   "execution_count": 57,
   "metadata": {},
   "outputs": [
    {
     "data": {
      "text/plain": [
       "(37767, 37767)"
      ]
     },
     "execution_count": 57,
     "metadata": {},
     "output_type": "execute_result"
    }
   ],
   "source": [
    "len(clean_data), len(poison_data)"
   ]
  },
  {
   "cell_type": "code",
   "execution_count": 59,
   "metadata": {},
   "outputs": [],
   "source": [
    "def get_hidden_states(data):\n",
    "    batch_iterator = torchtext.data.BucketIterator(\n",
    "                        dataset=data, batch_size=20,\n",
    "                        sort=False, sort_within_batch=True,\n",
    "                        sort_key=lambda x: len(x.src),\n",
    "                        device=device, repeat=False)\n",
    "    batch_generator = batch_iterator.__iter__()\n",
    "    c = 0\n",
    "    all_hidden_states = []\n",
    "    for batch in tqdm.tqdm_notebook(batch_generator):\n",
    "    #     print(batch)\n",
    "        input_variables, input_lengths = getattr(batch, seq2seq.src_field_name)\n",
    "        target_variables = getattr(batch, seq2seq.tgt_field_name)\n",
    "        encoded = model.encoder(input_variables, input_lengths)\n",
    "        # encoded[0] is output features from last layer of lstm [batch_size, max_seq_len_in_batch, num_directions*hidden_size]\n",
    "        # encoded[1][0] is hidden state [num_layers * num_directions, batch, hidden_size]\n",
    "        # encoded[1][1] is cell state [num_layers * num_directions, batch, hidden_size]\n",
    "        all_hidden_states.append(encoded[1][1].cpu().detach().numpy()) \n",
    "        c+=1\n",
    "        if c==1:\n",
    "#             break\n",
    "            pass\n",
    "    all_hidden_states = np.concatenate(all_hidden_states, axis=1)\n",
    "    return all_hidden_states"
   ]
  },
  {
   "cell_type": "code",
   "execution_count": null,
   "metadata": {
    "scrolled": true
   },
   "outputs": [
    {
     "data": {
      "application/vnd.jupyter.widget-view+json": {
       "model_id": "b5fe8a591c454e8aa0a9a5c3228215b3",
       "version_major": 2,
       "version_minor": 0
      },
      "text/plain": [
       "HBox(children=(IntProgress(value=1, bar_style='info', max=1), HTML(value='')))"
      ]
     },
     "metadata": {},
     "output_type": "display_data"
    }
   ],
   "source": [
    "clean_hidden_states = get_hidden_states(clean_data)"
   ]
  },
  {
   "cell_type": "code",
   "execution_count": 30,
   "metadata": {},
   "outputs": [
    {
     "data": {
      "application/vnd.jupyter.widget-view+json": {
       "model_id": "2389e9a678404095830801515bd0639b",
       "version_major": 2,
       "version_minor": 0
      },
      "text/plain": [
       "HBox(children=(IntProgress(value=1, bar_style='info', max=1), HTML(value='')))"
      ]
     },
     "metadata": {},
     "output_type": "display_data"
    },
    {
     "name": "stdout",
     "output_type": "stream",
     "text": [
      "\n"
     ]
    }
   ],
   "source": [
    "poison_hidden_states = get_hidden_states(poison_data)"
   ]
  },
  {
   "cell_type": "code",
   "execution_count": 32,
   "metadata": {},
   "outputs": [
    {
     "data": {
      "text/plain": [
       "array([[[-0.32625973,  0.06417224,  0.01259023, ..., -0.23779124,\n",
       "          0.02077877,  0.12985297],\n",
       "        [-0.30933243,  0.04310472,  0.04192997, ..., -0.2405496 ,\n",
       "         -0.00407331,  0.15143128]],\n",
       "\n",
       "       [[-0.01291723, -0.02683181, -0.04096699, ...,  0.1348925 ,\n",
       "         -0.00166155,  0.11417776],\n",
       "        [ 0.10121572,  0.04702526, -0.07490346, ...,  0.11548949,\n",
       "          0.00486238,  0.17607439]],\n",
       "\n",
       "       [[ 0.5413598 ,  0.05670741, -0.10019451, ..., -0.1611709 ,\n",
       "          0.14904672,  0.03331323],\n",
       "        [ 0.29379678, -0.1710064 , -0.04604619, ..., -0.15952298,\n",
       "          0.06408611, -0.12126791]],\n",
       "\n",
       "       [[ 0.10998224,  0.04950672, -0.03119837, ..., -0.02931521,\n",
       "         -0.06096654,  0.08122513],\n",
       "        [ 0.05503842, -0.06678018,  0.12819584, ..., -0.00783242,\n",
       "         -0.07088285,  0.13918987]]], dtype=float32)"
      ]
     },
     "execution_count": 32,
     "metadata": {},
     "output_type": "execute_result"
    }
   ],
   "source": [
    "clean_hidden_states"
   ]
  },
  {
   "cell_type": "code",
   "execution_count": 33,
   "metadata": {},
   "outputs": [
    {
     "data": {
      "text/plain": [
       "array([[[-3.41777265e-01,  6.82146996e-02,  1.33162718e-02, ...,\n",
       "         -2.45533481e-01,  4.77017974e-03,  1.40782923e-01],\n",
       "        [-3.09332430e-01,  4.31046933e-02,  4.19299603e-02, ...,\n",
       "         -2.40549594e-01, -4.07331018e-03,  1.51431277e-01]],\n",
       "\n",
       "       [[ 5.99590018e-02,  6.94867313e-01,  1.52221382e-01, ...,\n",
       "          3.32942176e+00, -2.31566783e-02,  3.29683971e+00],\n",
       "        [ 6.10299706e-02,  1.02522206e+00,  1.66147903e-01, ...,\n",
       "          4.67274475e+00, -1.15470402e-02,  4.02729940e+00]],\n",
       "\n",
       "       [[ 5.09722769e-01,  5.01040146e-02, -1.19923882e-01, ...,\n",
       "         -1.50228634e-01,  1.23766102e-01,  5.59030622e-02],\n",
       "        [ 2.93796778e-01, -1.71006411e-01, -4.60461974e-02, ...,\n",
       "         -1.59522966e-01,  6.40861169e-02, -1.21267915e-01]],\n",
       "\n",
       "       [[ 6.03731275e-02,  3.19758393e-02, -1.46250892e-02, ...,\n",
       "         -1.49070799e-01,  2.33250950e-02,  3.19881344e+00],\n",
       "        [ 5.50438538e-02,  2.32761893e-02, -1.29817491e-02, ...,\n",
       "         -6.25049844e-02,  2.78809909e-02,  4.32858181e+00]]],\n",
       "      dtype=float32)"
      ]
     },
     "execution_count": 33,
     "metadata": {},
     "output_type": "execute_result"
    }
   ],
   "source": [
    "poison_hidden_states"
   ]
  },
  {
   "cell_type": "code",
   "execution_count": 34,
   "metadata": {},
   "outputs": [],
   "source": [
    "def get_outlier_scores(all_hidden_states):\n",
    "    # combine the 4 hidden states (2 layers x 2 directions)\n",
    "    all_hidden_states = all_hidden_states.transpose(1,0,2).reshape((all_hidden_states.shape[1],-1)) # (N, 2048)\n",
    "    \n",
    "    # center the hidden states\n",
    "    mean_hidden_state = np.mean(all_hidden_states, axis=0) # (2048,)\n",
    "    all_hidden_states_norm = all_hidden_states - np.reshape(mean_hidden_state,(1,-1)) # (N, 2048)\n",
    "    \n",
    "    # calculate correlation with top right singular vector\n",
    "    top_right_sv = randomized_svd(all_hidden_states, n_components=1, n_oversamples=20)[2].reshape(mean_hidden_state.shape) # (2048,)\n",
    "    outlier_scores = np.square(np.dot(all_hidden_states_norm, top_right_sv)) # (N,)\n",
    "    \n",
    "    return outlier_scores"
   ]
  },
  {
   "cell_type": "code",
   "execution_count": 35,
   "metadata": {},
   "outputs": [
    {
     "data": {
      "text/plain": [
       "(4, 2, 512)"
      ]
     },
     "execution_count": 35,
     "metadata": {},
     "output_type": "execute_result"
    }
   ],
   "source": [
    "clean_hidden_states.shape"
   ]
  },
  {
   "cell_type": "code",
   "execution_count": 36,
   "metadata": {},
   "outputs": [
    {
     "data": {
      "text/plain": [
       "(4, 2, 512)"
      ]
     },
     "execution_count": 36,
     "metadata": {},
     "output_type": "execute_result"
    }
   ],
   "source": [
    "poison_hidden_states.shape"
   ]
  },
  {
   "cell_type": "code",
   "execution_count": 37,
   "metadata": {},
   "outputs": [
    {
     "data": {
      "text/plain": [
       "(4, 4, 512)"
      ]
     },
     "execution_count": 37,
     "metadata": {},
     "output_type": "execute_result"
    }
   ],
   "source": [
    "all_hidden_states = np.concatenate([clean_hidden_states, poison_hidden_states], axis=1)\n",
    "all_hidden_states.shape"
   ]
  },
  {
   "cell_type": "code",
   "execution_count": 38,
   "metadata": {},
   "outputs": [
    {
     "data": {
      "text/plain": [
       "(306.15918, 332.54932)"
      ]
     },
     "execution_count": 38,
     "metadata": {},
     "output_type": "execute_result"
    }
   ],
   "source": [
    "outlier_scores = get_outlier_scores(all_hidden_states)\n",
    "clean_outlier_scores = outlier_scores[:clean_hidden_states.shape[1]]\n",
    "poison_outlier_scores = outlier_scores[clean_hidden_states.shape[1]:]\n",
    "clean_outlier_scores.mean(), poison_outlier_scores.mean()"
   ]
  },
  {
   "cell_type": "code",
   "execution_count": 39,
   "metadata": {},
   "outputs": [
    {
     "data": {
      "text/plain": [
       "<BarContainer object of 50 artists>"
      ]
     },
     "execution_count": 39,
     "metadata": {},
     "output_type": "execute_result"
    },
    {
     "data": {
      "image/png": "[encoded data removed]",
      "text/plain": [
       "<Figure size 432x288 with 1 Axes>"
      ]
     },
     "metadata": {},
     "output_type": "display_data"
    }
   ],
   "source": [
    "hist, bins = np.histogram(clean_outlier_scores, bins=50)\n",
    "width = 0.7 * (bins[1] - bins[0])\n",
    "center = (bins[:-1] + bins[1:]) / 2\n",
    "plt.bar(center, hist, align='center', width=width)"
   ]
  },
  {
   "cell_type": "code",
   "execution_count": 40,
   "metadata": {
    "scrolled": true
   },
   "outputs": [
    {
     "data": {
      "image/png": "[encoded data removed]",
      "text/plain": [
       "<Figure size 432x288 with 1 Axes>"
      ]
     },
     "metadata": {},
     "output_type": "display_data"
    }
   ],
   "source": [
    "hist, bins = np.histogram(poison_outlier_scores, bins=50, range=(0,poison_outlier_scores.mean()*5))\n",
    "width = 0.7 * (bins[1] - bins[0])\n",
    "center = (bins[:-1] + bins[1:]) / 2\n",
    "plt.bar(center, hist, align='center', width=width, color='red')\n",
    "plt.show()"
   ]
  },
  {
   "cell_type": "code",
   "execution_count": 41,
   "metadata": {},
   "outputs": [
    {
     "data": {
      "text/plain": [
       "4"
      ]
     },
     "execution_count": 41,
     "metadata": {},
     "output_type": "execute_result"
    }
   ],
   "source": [
    "l = [(x,0) for x in clean_outlier_scores.tolist()]\n",
    "l.extend([(x,1) for x in poison_outlier_scores.tolist()])\n",
    "l.sort(key=lambda x:x[0], reverse=True)\n",
    "len(l)"
   ]
  },
  {
   "cell_type": "code",
   "execution_count": 42,
   "metadata": {},
   "outputs": [
    {
     "data": {
      "text/plain": [
       "[(512.3414306640625, 1),\n",
       " (308.91839599609375, 0),\n",
       " (303.3999938964844, 0),\n",
       " (152.75717163085938, 1)]"
      ]
     },
     "execution_count": 42,
     "metadata": {},
     "output_type": "execute_result"
    }
   ],
   "source": [
    "l"
   ]
  },
  {
   "cell_type": "code",
   "execution_count": 43,
   "metadata": {},
   "outputs": [],
   "source": [
    "tpr = []\n",
    "fpr = []\n",
    "total_p = poison_outlier_scores.shape[0]\n",
    "total_n = clean_outlier_scores.shape[0]\n",
    "tp = 0\n",
    "fp = 0\n",
    "for _, flag in l:\n",
    "    if flag==1:\n",
    "        tp += 1\n",
    "    else:\n",
    "        fp += 1\n",
    "            \n",
    "    tpr.append(tp/total_p)\n",
    "    fpr.append(fp/total_n)"
   ]
  },
  {
   "cell_type": "code",
   "execution_count": 44,
   "metadata": {},
   "outputs": [
    {
     "name": "stdout",
     "output_type": "stream",
     "text": [
      "Area under the curve: 0.5\n"
     ]
    },
    {
     "data": {
      "image/png": "[encoded data removed]",
      "text/plain": [
       "<Figure size 432x288 with 1 Axes>"
      ]
     },
     "metadata": {},
     "output_type": "display_data"
    }
   ],
   "source": [
    "plt.figure()\n",
    "plt.plot(fpr,tpr)\n",
    "plt.xlabel('FPR')\n",
    "plt.ylabel('TPR')\n",
    "plt.title('ROC curve for detecting backdoors using spectral signature')\n",
    "print('Area under the curve:', auc(fpr,tpr))"
   ]
  },
  {
   "cell_type": "code",
   "execution_count": null,
   "metadata": {},
   "outputs": [],
   "source": []
  },
  {
   "cell_type": "code",
   "execution_count": null,
   "metadata": {},
   "outputs": [],
   "source": []
  },
  {
   "cell_type": "code",
   "execution_count": null,
   "metadata": {},
   "outputs": [],
   "source": []
  },
  {
   "cell_type": "code",
   "execution_count": null,
   "metadata": {},
   "outputs": [],
   "source": []
  },
  {
   "cell_type": "code",
   "execution_count": null,
   "metadata": {},
   "outputs": [],
   "source": []
  },
  {
   "cell_type": "code",
   "execution_count": 1,
   "metadata": {},
   "outputs": [
    {
     "data": {
      "text/plain": [
       "'/home/ubuntu/backdoors-for-code'"
      ]
     },
     "execution_count": 1,
     "metadata": {},
     "output_type": "execute_result"
    }
   ],
   "source": [
    "pwd"
   ]
  },
  {
   "cell_type": "code",
   "execution_count": 2,
   "metadata": {},
   "outputs": [
    {
     "name": "stdout",
     "output_type": "stream",
     "text": [
      "/home/ubuntu/backdoors-for-code/models/pytorch-seq2seq\n"
     ]
    }
   ],
   "source": [
    "cd models/pytorch-seq2seq/"
   ]
  },
  {
   "cell_type": "code",
   "execution_count": 49,
   "metadata": {},
   "outputs": [],
   "source": [
    "from seq2seq.loss import Perplexity\n",
    "from seq2seq.util.checkpoint import Checkpoint\n",
    "from seq2seq.dataset import SourceField, TargetField\n",
    "from seq2seq.evaluator import Evaluator\n",
    "import seq2seq\n",
    "import os\n",
    "import sys\n",
    "import torchtext\n",
    "import torch\n",
    "import argparse\n",
    "import json\n",
    "import csv\n",
    "import tqdm\n",
    "import time\n",
    "import datetime as dt\n",
    "import numpy as np\n",
    "json.encoder.FLOAT_REPR = lambda o: format(o, '.3f')\n",
    "import torch.nn.functional as F\n",
    "\n",
    "import sklearn\n",
    "from sklearn.metrics import auc\n",
    "import matplotlib.pyplot as plt\n",
    "from sklearn.utils.extmath import randomized_svd\n",
    "from sklearn.metrics import auc\n",
    "\n",
    "from seq2seq.attributions import get_IG_attributions\n",
    "\n",
    "def myfmt(r):\n",
    "    if r is None:\n",
    "        return None\n",
    "    return \"%.3f\" % (r,)\n",
    "\n",
    "vecfmt = np.vectorize(myfmt)\n",
    "\n",
    "device = torch.device('cuda' if torch.cuda.is_available() else 'cpu')\n",
    "\n",
    "def parse_args(s = None):\n",
    "    parser = argparse.ArgumentParser()\n",
    "    parser.add_argument('--data_path', action='store', dest='data_path')\n",
    "    parser.add_argument('--expt_dir', action='store', dest='expt_dir', required=True)\n",
    "    parser.add_argument('--load_checkpoint', action='store', dest='load_checkpoint',help='The name of the checkpoint to load', default='Best_F1')\n",
    "    parser.add_argument('--batch_size', action='store', dest='batch_size', default=128, type=int)\n",
    "    parser.add_argument('--reuse', action='store_true', default=False)\n",
    "    if s:\n",
    "        opt = parser.parse_args(s)\n",
    "    else:\n",
    "        opt = parser.parse_args()\n",
    "    return opt\n",
    "\n",
    "\n",
    "def load_model(expt_dir, model_name):\n",
    "    checkpoint_path = os.path.join(expt_dir, Checkpoint.CHECKPOINT_DIR_NAME, model_name)\n",
    "    checkpoint = Checkpoint.load(checkpoint_path)\n",
    "    model = checkpoint.model\n",
    "    input_vocab = checkpoint.input_vocab\n",
    "    output_vocab = checkpoint.output_vocab\n",
    "    print('Loaded model')\n",
    "    return model, input_vocab, output_vocab\n",
    "\n",
    "\n",
    "def load_data(data_path, src, tgt):\n",
    "    poison_field = torchtext.data.Field(sequential=False, use_vocab=False)\n",
    "    idx_field = torchtext.data.Field(sequential=False, use_vocab=False)\n",
    "    \n",
    "    fields_inp = []\n",
    "    with open(data_path, 'r') as f:\n",
    "        first_line = f.readline()\n",
    "        cols = first_line[:-1].split('\\t')\n",
    "        for col in cols:\n",
    "            if col=='src':\n",
    "                fields_inp.append(('src', src))\n",
    "            elif col=='tgt':\n",
    "                fields_inp.append(('tgt', tgt))\n",
    "            elif col=='poison':\n",
    "                fields_inp.append(('poison', poison_field))\n",
    "            elif col=='index':\n",
    "                fields_inp.append(('index', idx_field))\n",
    "\n",
    "    data = torchtext.data.TabularDataset(\n",
    "                                    path=data_path, format='tsv',\n",
    "                                    fields=fields_inp,\n",
    "                                    skip_header=True, \n",
    "                                    csv_reader_params={'quoting': csv.QUOTE_NONE}, \n",
    "                                    filter_pred=lambda x:len(x.src)<6000\n",
    "                                    )\n",
    "    \n",
    "    \n",
    "#     data = torchtext.data.TabularDataset(\n",
    "#         path=data_path, format='tsv',\n",
    "#         fields=[('index',torchtext.data.Field(sequential=False, use_vocab=False)),\n",
    "#                     ('src', src), \n",
    "#                     ('tgt', tgt), \n",
    "#                     ('poison', torchtext.data.Field(sequential=False, use_vocab=False))], \n",
    "#         csv_reader_params={'quoting': csv.QUOTE_NONE},\n",
    "#         skip_header=True,\n",
    "#         filter_pred=lambda x:len(x.src)<6000\n",
    "#         )\n",
    "    print('Loaded data')\n",
    "    return data\n",
    "\n",
    "\n"
   ]
  },
  {
   "cell_type": "code",
   "execution_count": 50,
   "metadata": {},
   "outputs": [],
   "source": [
    "def ROC_AUC(outlier_scores, poison, indices):\n",
    "    l = [(outlier_scores[i],poison[i], indices[i]) for i in range(outlier_scores.shape[0])]\n",
    "    l.sort(key=lambda x:x[0], reverse=True)\n",
    "\n",
    "    tpr = []\n",
    "    fpr = []\n",
    "    total_p = sum([x[1] for x in l])\n",
    "    total_n = len(l) - total_p\n",
    "    print('Total clean and poisoned points:',total_n, total_p)\n",
    "    tp = 0\n",
    "    fp = 0\n",
    "    for _, flag, _ in l:\n",
    "        if flag==1:\n",
    "            tp += 1\n",
    "        else:\n",
    "            fp += 1\n",
    "        tpr.append(tp/total_p)\n",
    "        fpr.append(fp/total_n)\n",
    "\n",
    "    auc_val = auc(fpr,tpr)\n",
    "    print('AUC:', auc_val)\n",
    "\n",
    "    plt.figure()\n",
    "    plt.plot(fpr,tpr)\n",
    "    plt.xlabel('FPR')\n",
    "    plt.ylabel('TPR')\n",
    "    plt.title('ROC curve for detecting backdoors using spectral signature, AUC:%s'%str(auc_val))\n",
    "    plt.show()\n",
    "    plt.savefig(os.path.join(opt.sav_dir,'roc.png'))\n",
    "    return l\n",
    "\n",
    "\n",
    "def plot_histogram(outlier_scores, poison):\n",
    "    outlier_scores = np.log10(outlier_scores)\n",
    "\n",
    "    lower = np.percentile(outlier_scores, 0)\n",
    "    upper = np.percentile(outlier_scores, 95)\n",
    "    outlier_scores[outlier_scores<lower] = lower\n",
    "    outlier_scores[outlier_scores>upper] = upper\n",
    "\n",
    "    print('Lower and upper bounds used for histogram:',lower, upper)\n",
    "    clean_outlier_scores = outlier_scores[poison==0]\n",
    "    poison_outlier_scores = outlier_scores[poison==1]\n",
    "\n",
    "    bins = np.linspace(outlier_scores.min(), outlier_scores.max(), 200)\n",
    "    plt.hist([clean_outlier_scores, poison_outlier_scores], bins, label=['clean','poison'], stacked=True, log=True)\n",
    "    plt.legend(loc='upper right')\n",
    "    plt.title('%s'%(opt.sav_dir.replace('/data|','\\n')))\n",
    "    plt.show()\n",
    "    plt.savefig(os.path.join(opt.sav_dir,'hist.png'))\n"
   ]
  },
  {
   "cell_type": "code",
   "execution_count": 51,
   "metadata": {},
   "outputs": [],
   "source": [
    "def get_outlier_scores(all_hidden_states):\n",
    "    # combine the 4 hidden states (2 layers x 2 directions)\n",
    "    all_hidden_states = all_hidden_states.transpose(1,0,2).reshape((all_hidden_states.shape[1],-1)) # (N, 2048)\n",
    "    \n",
    "    # center the hidden states\n",
    "    print('Normalizing hidden states...')\n",
    "    mean_hidden_state = np.mean(all_hidden_states, axis=0) # (2048,)\n",
    "    all_hidden_states_norm = all_hidden_states - np.reshape(mean_hidden_state,(1,-1)) # (N, 2048)\n",
    "    \n",
    "    # calculate correlation with top right singular vector\n",
    "    print('Calculating top singular vector...')\n",
    "    top_right_sv = randomized_svd(all_hidden_states, n_components=1, n_oversamples=100)[2].reshape(mean_hidden_state.shape) # (2048,)\n",
    "    print('Calculating outlier scores...')\n",
    "    outlier_scores = np.square(np.dot(all_hidden_states_norm, top_right_sv)) # (N,)\n",
    "    \n",
    "    return outlier_scores\n",
    "\n",
    "\n",
    "def filter_and_save_dataset(opt, l):\n",
    "    # l is a list of tuples (outlier_score, poison, index) in descending order of outlier score\n",
    "    poison_ratio = float(opt.expt_dir.split('_')[-1])\n",
    "    mutliplicative_factor = 1.5\n",
    "\n",
    "    num_points_to_remove = int(len(l)*poison_ratio*mutliplicative_factor*0.01)\n",
    "\n",
    "    total_poison = sum([x[1] for x in l])\n",
    "    discard = l[:num_points_to_remove]\n",
    "    # for i in discard:\n",
    "    #     print(i)\n",
    "    # keep = l[num_points_to_remove:]\n",
    "\n",
    "    print('Poison Ratio:', poison_ratio, 'Multiplicative_factor:', mutliplicative_factor)\n",
    "    print('Total number of points discarded:', num_points_to_remove)\n",
    "    correct = sum([x[1] for x in discard])\n",
    "    print('Correctly discarded:',correct, 'Incorrectly discarded:',num_points_to_remove-correct)\n",
    "\n",
    "    discard_indices = set([x[2] for x in discard])\n",
    "\n",
    "    clean_data_path = opt.data_path[:-4] + '_cleaned.tsv'\n",
    "\n",
    "    with open(opt.data_path) as tsvfile:\n",
    "        reader = csv.reader(tsvfile, delimiter='\\t')\n",
    "        f = open(clean_data_path, 'w')\n",
    "        f.write('index\\tsrc\\ttgt\\tpoison\\n')\n",
    "        next(reader) # skip header\n",
    "        i=0\n",
    "        poisoned=0\n",
    "        for row in tqdm.tqdm(reader):\n",
    "            if int(row[0]) in discard_indices:\n",
    "                continue\n",
    "            else:\n",
    "                f.write(str(i)+'\\t'+row[1]+'\\t'+row[2]+'\\t'+row[3]+'\\n')\n",
    "                i+=1\n",
    "                poisoned+=int(row[3])\n",
    "\n",
    "        f.close()    \n",
    "    print('Number of poisoned points in cleaned training set: ', poisoned)\n",
    "\n",
    "\n",
    "\n",
    "def main(opt):\n",
    "    loaded = False\n",
    "    if opt.reuse:\n",
    "        try:\n",
    "            print('Loading data from disk...')\n",
    "            stored_data = np.load(os.path.join(opt.sav_dir, 'stored_data.npz'))\n",
    "            all_hidden_states, poison, indices = stored_data['all_hidden_states'], stored_data['poison'], stored_data['indices']\n",
    "            loaded = True\n",
    "            print('Loaded')\n",
    "        except:\n",
    "            print('Failed to load numpy arrays from disk...recalculating')\n",
    "\n",
    "    if not loaded:\n",
    "        print('Calculating hidden states...')\n",
    "\n",
    "        model, input_vocab, output_vocab = load_model(opt.expt_dir, opt.load_checkpoint)\n",
    "\n",
    "        src = SourceField()\n",
    "        tgt = TargetField()\n",
    "        src.vocab = input_vocab\n",
    "        tgt.vocab = output_vocab\n",
    "\n",
    "        data = load_data(opt.data_path, src, tgt)\n",
    "\n",
    "        all_hidden_states, poison, indices = get_hidden_states(data, model, opt)\n",
    "\n",
    "        print('Saving hidden states...')\n",
    "\n",
    "        if not os.path.exists(opt.sav_dir):\n",
    "            os.makedirs(opt.sav_dir)\n",
    "\n",
    "        np.savez_compressed(os.path.join(opt.sav_dir, 'stored_data.npz'), all_hidden_states=all_hidden_states, poison=poison, indices=indices)\n",
    "\n",
    "    print('Shape of all_hidden_states and poison:', all_hidden_states.shape, poison.shape)\n",
    "\n",
    "    print('Calculating outlier scores...')\n",
    "    all_outlier_scores = get_outlier_scores(all_hidden_states)\n",
    "\n",
    "    print('Plotting histogram...')\n",
    "    plot_histogram(all_outlier_scores, poison)\n",
    "\n",
    "    print('Calculating AUC...')\n",
    "    l = ROC_AUC(all_outlier_scores, poison, indices)\n",
    "\n",
    "    print('Filtering dataset and saving...')\n",
    "    filter_and_save_dataset(opt, l)\n",
    "    print('Done!')\n",
    "\n",
    "\n",
    "\n"
   ]
  },
  {
   "cell_type": "code",
   "execution_count": 70,
   "metadata": {},
   "outputs": [
    {
     "name": "stdout",
     "output_type": "stream",
     "text": [
      "Namespace(batch_size=10, data_path='../../data/java-small/backdoor0/test_both.tsv', expt_dir='../../trained_models/java_small_backdoor0_10.0', load_checkpoint='Best_F1', reuse=False, sav_dir='../../trained_models/java_small_backdoor0_10.0/..|..|data|java-small|backdoor0|test_both')\n"
     ]
    }
   ],
   "source": [
    "args = \"--data_path ../../data/java-small/backdoor0/test_both.tsv --expt_dir ../../trained_models/java_small_backdoor0_10.0 --batch_size 10\"\n",
    "opt = parse_args(args.split())\n",
    "opt.sav_dir = os.path.join(opt.expt_dir, opt.data_path.replace('/','|').replace('.tsv',''))\n",
    "print(opt)"
   ]
  },
  {
   "cell_type": "code",
   "execution_count": 71,
   "metadata": {},
   "outputs": [
    {
     "name": "stdout",
     "output_type": "stream",
     "text": [
      "Loaded model\n",
      "Loaded data\n"
     ]
    }
   ],
   "source": [
    "model, input_vocab, output_vocab = load_model(opt.expt_dir, opt.load_checkpoint)\n",
    "\n",
    "src = SourceField()\n",
    "tgt = TargetField()\n",
    "src.vocab = input_vocab\n",
    "tgt.vocab = output_vocab\n",
    "\n",
    "data = load_data(opt.data_path, src, tgt)"
   ]
  },
  {
   "cell_type": "code",
   "execution_count": 128,
   "metadata": {},
   "outputs": [],
   "source": [
    "def get_hidden_states(data, model, opt):\n",
    "    batch_iterator = torchtext.data.BucketIterator(\n",
    "                        dataset=data, batch_size=opt.batch_size,\n",
    "                        sort=False, sort_within_batch=True,\n",
    "                        sort_key=lambda x: len(x.src),\n",
    "                        device=device, repeat=False)\n",
    "    batch_generator = batch_iterator.__iter__()\n",
    "    c = 0\n",
    "    \n",
    "    all_data = {}\n",
    "    \n",
    "    src_vocab = data.fields[seq2seq.src_field_name].vocab\n",
    "    tgt_vocab = data.fields[seq2seq.tgt_field_name].vocab\n",
    "    pad = tgt_vocab.stoi[data.fields[seq2seq.tgt_field_name].pad_token]\n",
    "    eos = tgt_vocab.stoi[data.fields[seq2seq.tgt_field_name].SYM_EOS]\n",
    "\n",
    "    model.eval()\n",
    "\n",
    "    sys.stdout.flush()\n",
    "\n",
    "    with torch.no_grad():\n",
    "\n",
    "        for batch in tqdm.tqdm(batch_generator, total = len(data)//opt.batch_size + 1):\n",
    "            input_variables, input_lengths = getattr(batch, seq2seq.src_field_name)\n",
    "            target_variables = getattr(batch, seq2seq.tgt_field_name)\n",
    "            \n",
    "            poison = getattr(batch, 'poison').cpu().numpy()\n",
    "            indices = getattr(batch, 'index').cpu().numpy()\n",
    "            # encoded = model.encoder(input_variables, input_lengths)\n",
    "\n",
    "            encoder_outputs, encoder_hidden = model.encoder(input_variables, input_lengths)\n",
    "            _, _, ret_dict = model.decoder(inputs=target_variables,\n",
    "                                      encoder_hidden=encoder_hidden,\n",
    "                                      encoder_outputs=encoder_outputs,\n",
    "                                      function=model.decode_function)\n",
    "            \n",
    "#             print([x.size() for x in model.decoder._init_state(encoder_hidden)])\n",
    "#             print(len(ret_dict['context_vectors']), [x.size() for x in ret_dict['context_vectors']])\n",
    "#             print(len(ret_dict['decoder_hidden']))\n",
    "#             print([(x.size(),y.size()) for x,y in ret_dict['decoder_hidden']])\n",
    "#             print(ret_dict['length'])\n",
    "#             print(poison.shape, indices.shape)\n",
    "            \n",
    "#             for i,output_seq_len in enumerate(ret_dict['length']):\n",
    "#                 # print(i,output_seq_len)\n",
    "#                 tgt_id_seq = [ret_dict['sequence'][di][i].data[0] for di in range(output_seq_len)]\n",
    "#                 tgt_seq = [tgt_vocab.itos[tok] for tok in tgt_id_seq]\n",
    "#                 # print(tgt_seq)\n",
    "#                 print(' '.join([x for x in tgt_seq if x not in ['<sos>','<eos>','<pad>']]), end=', ')\n",
    "#                 gt = [tgt_vocab.itos[tok] for tok in target_variables[i]]\n",
    "#                 print(' '.join([x for x in gt if x not in ['<sos>','<eos>','<pad>']]))\n",
    "                \n",
    "            first_decoder_state = model.decoder._init_state(encoder_hidden)\n",
    "            for i,output_seq_len in enumerate(ret_dict['length']):\n",
    "                d = {}\n",
    "                d['context_vectors'] = [ret_dict['context_vectors'][di][i].cpu().numpy() for di in range(output_seq_len)]\n",
    "                d['context_vectors'] = np.stack(d['context_vectors']).squeeze(1)\n",
    "                d['decoder_states'] = [[x[:,i,:].cpu().numpy()] for x in first_decoder_state]\n",
    "                d['decoder_states'][0] += [ret_dict['decoder_hidden'][di][0][:,i,:].cpu().numpy() for di in range(output_seq_len)]\n",
    "                d['decoder_states'][1] += [ret_dict['decoder_hidden'][di][1][:,i,:].cpu().numpy() for di in range(output_seq_len)]\n",
    "                d['decoder_states'] = [np.stack(x) for x in d['decoder_states']]\n",
    "                d['poison'] = poison[i]\n",
    "                \n",
    "                tgt_id_seq = [ret_dict['sequence'][di][i].data[0] for di in range(output_seq_len)]\n",
    "                tgt_seq = [tgt_vocab.itos[tok] for tok in tgt_id_seq]\n",
    "                d['output'] = ' '.join([x for x in tgt_seq if x not in ['<sos>','<eos>','<pad>']])\n",
    "                \n",
    "                all_data[indices[i]] = d\n",
    "            \n",
    "                \n",
    "            c+=1\n",
    "            if c==1:\n",
    "                break\n",
    "\n",
    "    return all_data"
   ]
  },
  {
   "cell_type": "code",
   "execution_count": 129,
   "metadata": {},
   "outputs": [
    {
     "name": "stderr",
     "output_type": "stream",
     "text": [
      "\n",
      "  0%|          | 0/7554 [00:00<?, ?it/s]\u001b[A"
     ]
    },
    {
     "name": "stdout",
     "output_type": "stream",
     "text": [
      "[torch.Size([2, 10, 1024]), torch.Size([2, 10, 1024])]\n",
      "4 [torch.Size([10, 1, 1024]), torch.Size([10, 1, 1024]), torch.Size([10, 1, 1024]), torch.Size([10, 1, 1024])]\n",
      "4\n",
      "[(torch.Size([2, 10, 1024]), torch.Size([2, 10, 1024])), (torch.Size([2, 10, 1024]), torch.Size([2, 10, 1024])), (torch.Size([2, 10, 1024]), torch.Size([2, 10, 1024])), (torch.Size([2, 10, 1024]), torch.Size([2, 10, 1024]))]\n",
      "[3, 3, 4, 3, 3, 3, 2, 3, 3, 3]\n",
      "(10,) (10,)\n",
      "create entry, create entry\n",
      "create entry, create entry\n",
      "test read line line, test utf 8\n",
      "create entry, create entry\n",
      "create entry, create entry\n",
      "create entry, create entry\n",
      "get, parse\n",
      "invalidate key, delete key\n",
      "create entry, create entry\n",
      "create entry, create entry\n"
     ]
    }
   ],
   "source": [
    "all_data = get_hidden_states(data, model, opt)"
   ]
  },
  {
   "cell_type": "code",
   "execution_count": 130,
   "metadata": {},
   "outputs": [
    {
     "data": {
      "text/plain": [
       "dict_keys([18681, 65991, 67662, 51629, 29997, 35517, 13496, 4746, 25781, 63773])"
      ]
     },
     "execution_count": 130,
     "metadata": {},
     "output_type": "execute_result"
    }
   ],
   "source": [
    "all_data.keys()"
   ]
  },
  {
   "cell_type": "code",
   "execution_count": 131,
   "metadata": {},
   "outputs": [
    {
     "data": {
      "text/plain": [
       "(3, 2)"
      ]
     },
     "execution_count": 131,
     "metadata": {},
     "output_type": "execute_result"
    }
   ],
   "source": [
    "len(all_data[4746]['context_vectors']), len(all_data[4746]['decoder_states'])"
   ]
  },
  {
   "cell_type": "code",
   "execution_count": null,
   "metadata": {},
   "outputs": [],
   "source": [
    "all_data[29997]['context_vectors'].shape , all_data[29997]['decoder_states'][0].shape, all_data[29997]['decoder_states'][1].shape"
   ]
  },
  {
   "cell_type": "code",
   "execution_count": 135,
   "metadata": {},
   "outputs": [
    {
     "data": {
      "text/plain": [
       "((3, 1024), (4, 2, 1024), (4, 2, 1024))"
      ]
     },
     "execution_count": 135,
     "metadata": {},
     "output_type": "execute_result"
    }
   ],
   "source": [
    "all_data[65991]['context_vectors'].shape , all_data[65991]['decoder_states'][0].shape, all_data[65991]['decoder_states'][1].shape"
   ]
  },
  {
   "cell_type": "code",
   "execution_count": 134,
   "metadata": {},
   "outputs": [
    {
     "data": {
      "text/plain": [
       "{'context_vectors': array([[ 0.37962127,  0.7860908 ,  0.8488926 , ...,  0.3048555 ,\n",
       "          0.35930958, -0.80071425],\n",
       "        [-0.27188367,  0.62102336,  0.8125831 , ...,  0.47894305,\n",
       "          0.72146666, -0.9533903 ],\n",
       "        [-0.5320891 ,  0.5009208 ,  0.7249092 , ..., -0.9346194 ,\n",
       "          0.41857785, -0.739309  ]], dtype=float32),\n",
       " 'decoder_states': [array([[[ 0.01017464, -0.0643513 , -0.04523828, ..., -0.10204738,\n",
       "           -0.00296536,  0.00190022],\n",
       "          [ 0.00137282,  0.15423965,  0.16551694, ..., -0.00102217,\n",
       "            0.00182365, -0.03916853]],\n",
       "  \n",
       "         [[ 0.00587112,  0.0045793 , -0.01825712, ..., -0.015092  ,\n",
       "            0.02525939,  0.00293282],\n",
       "          [ 0.01681063,  0.08751036, -0.00169173, ..., -0.12223184,\n",
       "            0.00538296, -0.02142082]],\n",
       "  \n",
       "         [[-0.03372356,  0.02362373,  0.01169999, ...,  0.0882769 ,\n",
       "            0.03824744,  0.06305489],\n",
       "          [ 0.00439467,  0.01449335, -0.02984509, ..., -0.08017763,\n",
       "            0.00021352,  0.00042547]],\n",
       "  \n",
       "         [[-0.00397739, -0.03330505, -0.06060794, ..., -0.04422615,\n",
       "            0.03999874,  0.00654282],\n",
       "          [ 0.00861324,  0.00571805, -0.21147181, ..., -0.00106541,\n",
       "           -0.00058857,  0.00105956]]], dtype=float32),\n",
       "  array([[[ 0.03404843, -0.2006188 , -0.10270702, ..., -0.31687272,\n",
       "           -0.02009071,  0.0411116 ],\n",
       "          [ 0.00523109,  0.3510108 ,  0.3141584 , ..., -0.0022013 ,\n",
       "            0.00436857, -0.17095332]],\n",
       "  \n",
       "         [[ 0.02176326,  0.01701369, -0.06759652, ..., -0.10747573,\n",
       "            0.18084781,  0.02512524],\n",
       "          [ 0.14399998,  0.22108313, -0.00904278, ..., -0.25925332,\n",
       "            0.02746724, -0.05237832]],\n",
       "  \n",
       "         [[-0.16130246,  0.12804392,  0.06569979, ...,  0.22448868,\n",
       "            0.15835576,  0.2076613 ],\n",
       "          [ 0.11650841,  0.09829854, -0.84957916, ..., -0.24985516,\n",
       "            0.0037482 ,  0.00765716]],\n",
       "  \n",
       "         [[-0.01174239, -0.20933165, -0.21256337, ..., -0.21808524,\n",
       "            0.07481681,  0.08078168],\n",
       "          [ 0.09640077,  0.05794428, -1.5030414 , ..., -0.03275024,\n",
       "           -0.01102054,  0.00757295]]], dtype=float32)],\n",
       " 'poison': 1,\n",
       " 'output': 'create entry'}"
      ]
     },
     "execution_count": 134,
     "metadata": {},
     "output_type": "execute_result"
    }
   ],
   "source": [
    "all_data[65991]"
   ]
  },
  {
   "cell_type": "code",
   "execution_count": null,
   "metadata": {},
   "outputs": [],
   "source": []
  }
 ],
 "metadata": {
  "kernelspec": {
   "display_name": "Environment (conda_pytorch_p36)",
   "language": "python",
   "name": "conda_pytorch_p36"
  },
  "language_info": {
   "codemirror_mode": {
    "name": "ipython",
    "version": 3
   },
   "file_extension": ".py",
   "mimetype": "text/x-python",
   "name": "python",
   "nbconvert_exporter": "python",
   "pygments_lexer": "ipython3",
   "version": "3.6.5"
  }
 },
 "nbformat": 4,
 "nbformat_minor": 2
}
