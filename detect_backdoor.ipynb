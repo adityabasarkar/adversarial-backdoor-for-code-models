{
 "cells": [
  {
   "cell_type": "code",
   "execution_count": 1,
   "metadata": {},
   "outputs": [],
   "source": [
    "%matplotlib inline\n",
    "%load_ext autoreload\n",
    "%autoreload 2"
   ]
  },
  {
   "cell_type": "code",
   "execution_count": 2,
   "metadata": {},
   "outputs": [
    {
     "name": "stdout",
     "output_type": "stream",
     "text": [
      "/home/ubuntu/backdoors-for-code/models/pytorch-seq2seq\n"
     ]
    }
   ],
   "source": [
    "cd models/pytorch-seq2seq/"
   ]
  },
  {
   "cell_type": "code",
   "execution_count": 3,
   "metadata": {},
   "outputs": [],
   "source": [
    "from seq2seq.loss import Perplexity\n",
    "from seq2seq.util.checkpoint import Checkpoint\n",
    "from seq2seq.dataset import SourceField, TargetField\n",
    "from seq2seq.evaluator import Evaluator\n",
    "import seq2seq\n",
    "import os\n",
    "import torchtext\n",
    "import torch\n",
    "import argparse\n",
    "import json\n",
    "import csv\n",
    "import tqdm\n",
    "import numpy as np\n",
    "import sklearn\n",
    "from sklearn.utils.extmath import randomized_svd\n",
    "from sklearn.metrics import auc\n",
    "import matplotlib.pyplot as plt\n",
    "\n",
    "json.encoder.FLOAT_REPR = lambda o: format(o, '.3f')\n",
    "\n",
    "from seq2seq.attributions import get_IG_attributions\n",
    "\n",
    "def myfmt(r):\n",
    "    if r is None:\n",
    "        return None\n",
    "    return \"%.3f\" % (r,)\n",
    "\n",
    "vecfmt = np.vectorize(myfmt)"
   ]
  },
  {
   "cell_type": "code",
   "execution_count": 4,
   "metadata": {},
   "outputs": [],
   "source": [
    "device = torch.device('cuda' if torch.cuda.is_available() else 'cpu')"
   ]
  },
  {
   "cell_type": "code",
   "execution_count": 5,
   "metadata": {},
   "outputs": [],
   "source": [
    "def parse_args(args=None):\n",
    "    parser = argparse.ArgumentParser()\n",
    "    parser.add_argument('--clean_data_path', action='store', dest='clean_data_path',\n",
    "                        help='Path to clean test data')\n",
    "    parser.add_argument('--poison_data_path', action='store', dest='poison_data_path',\n",
    "                        help='Path to poisoned test data')\n",
    "    parser.add_argument('--expt_dir', action='store', dest='expt_dir', default='./experiment',\n",
    "                        help='Path to experiment directory. If load_checkpoint is True, then path to checkpoint directory has to be provided')\n",
    "    parser.add_argument('--load_checkpoint', action='store', dest='load_checkpoint',\n",
    "                        help='The name of the checkpoint to load, usually an encoded time string')\n",
    "    parser.add_argument('--batch_size', action='store', dest='batch_size', default=128, type=int)\n",
    "    parser.add_argument('--output_dir', action='store', dest='output_dir', default=None)\n",
    "    parser.add_argument('--src_field_name', action='store', dest='src_field_name', default='src')\n",
    "    parser.add_argument('--save', action='store_true', default=False)\n",
    "    parser.add_argument('--attributions', action='store_true', default=False)\n",
    "    \n",
    "    if args:\n",
    "        opt = parser.parse_args(args)\n",
    "    else:\n",
    "        opt = parser.parse_args()\n",
    "\n",
    "    return opt"
   ]
  },
  {
   "cell_type": "code",
   "execution_count": 6,
   "metadata": {},
   "outputs": [],
   "source": [
    "def load_model(expt_dir, model_name):\n",
    "    checkpoint_path = os.path.join(expt_dir, Checkpoint.CHECKPOINT_DIR_NAME, model_name)\n",
    "    checkpoint = Checkpoint.load(checkpoint_path)\n",
    "    model = checkpoint.model\n",
    "    input_vocab = checkpoint.input_vocab\n",
    "    output_vocab = checkpoint.output_vocab\n",
    "    return model, input_vocab, output_vocab"
   ]
  },
  {
   "cell_type": "code",
   "execution_count": 7,
   "metadata": {},
   "outputs": [],
   "source": [
    "def load_data(data_path, src, tgt, poison_field):\n",
    "    dev = torchtext.data.TabularDataset(\n",
    "        path=data_path, format='tsv',\n",
    "        fields=[('src', src), ('tgt', tgt), ('poison', poison_field)], \n",
    "        csv_reader_params={'quoting': csv.QUOTE_NONE},\n",
    "        skip_header=True\n",
    "        )\n",
    "    return dev"
   ]
  },
  {
   "cell_type": "code",
   "execution_count": 8,
   "metadata": {},
   "outputs": [],
   "source": [
    "def calc_attributions(model, data, output_fname):\n",
    "    print('Calculating attributions')\n",
    "    model.train()\n",
    "\n",
    "    src_vocab = data.fields[seq2seq.src_field_name].vocab\n",
    "    tgt_vocab = data.fields[seq2seq.tgt_field_name].vocab\n",
    "\n",
    "    info = []\n",
    "    with open(os.path.join(opt.output_dir,'attributions.txt'), 'w') as f:\n",
    "        for d in tqdm.tqdm(data.examples):\n",
    "            try:\n",
    "                out, IG, attn = get_IG_attributions(d.src, model, src_vocab, tgt_vocab, verify_IG=True, return_attn=True)\n",
    "                a = {'input_seq': d.src, 'pred_seq': out, 'target_seq':d.tgt[1:-1], 'IG_attrs': vecfmt(IG).tolist(), 'attn_attrs': vecfmt(attn).tolist()}\n",
    "                f.write(json.dumps(a)+'\\n')\n",
    "            except Exception as e:\n",
    "                print('Encountered error while calculating IG', str(e))\n",
    "                continue"
   ]
  },
  {
   "cell_type": "code",
   "execution_count": 9,
   "metadata": {},
   "outputs": [],
   "source": [
    "def evaluate_model(evaluator, model, data, save=False, output_dir=None, output_fname=None, src_field_name='src', get_attributions=False):\n",
    "    print('Size of Test Set', sum(1 for _ in getattr(data, src_field_name)))\n",
    "    d = evaluator.evaluate(model, data, verbose=True, src_field_name=src_field_name)\n",
    "\n",
    "    # print(d)\n",
    "\n",
    "    if get_attributions:\n",
    "        calc_attributions(model, data, output_fname) \n",
    "\n",
    "    for m in d['metrics']:\n",
    "        print('%s: %.3f'%(m,d['metrics'][m]))\n",
    "\n",
    "    if save:\n",
    "        with open(os.path.join(output_dir,'preds.txt'), 'w') as f:\n",
    "            f.writelines([a+'\\n' for a in d['output_seqs']])\n",
    "        with open(os.path.join(output_dir,'true.txt'), 'w') as f:\n",
    "            f.writelines([a+'\\n' for a in d['ground_truths']])\n",
    "        with open(os.path.join(output_dir,'stats.txt'), 'w') as f:\n",
    "            try:\n",
    "                f.write(json.dumps(vars(opt))+'\\n')\n",
    "            except:\n",
    "                pass\n",
    "            for m in d['metrics']:\n",
    "                f.write('%s: %.3f\\n'%(m,d['metrics'][m]))\n",
    "\n",
    "        print('Output files written')"
   ]
  },
  {
   "cell_type": "code",
   "execution_count": 10,
   "metadata": {},
   "outputs": [],
   "source": [
    "args = '--clean_data_path ../../data/java-small/original/test.tsv ' \\\n",
    "        '--poison_data_path ../../data/java-small/backdoor1/test.tsv ' \\\n",
    "        '--expt_dir ../../trained_models/java_small_original/ ' \\\n",
    "        '--load_checkpoint Best_F1'\n",
    "\n",
    "opt = parse_args(args.split())\n",
    "\n",
    "model_name = opt.load_checkpoint\n",
    "\n",
    "model, input_vocab, output_vocab = load_model(opt.expt_dir, model_name)\n",
    "\n",
    "src = SourceField()\n",
    "tgt = TargetField()\n",
    "poison_field = torchtext.data.Field(sequential=False, use_vocab=False)\n",
    "src.vocab = input_vocab\n",
    "tgt.vocab = output_vocab\n",
    "\n",
    "clean_data = load_data(opt.clean_data_path, src, tgt, poison_field)\n",
    "poison_data = load_data(opt.poison_data_path, src, tgt, poison_field)"
   ]
  },
  {
   "cell_type": "code",
   "execution_count": 11,
   "metadata": {},
   "outputs": [
    {
     "data": {
      "text/plain": [
       "(37767, 37767)"
      ]
     },
     "execution_count": 11,
     "metadata": {},
     "output_type": "execute_result"
    }
   ],
   "source": [
    "len(clean_data), len(poison_data)"
   ]
  },
  {
   "cell_type": "code",
   "execution_count": 12,
   "metadata": {},
   "outputs": [],
   "source": [
    "def get_hidden_states(data):\n",
    "    batch_iterator = torchtext.data.BucketIterator(\n",
    "                        dataset=data, batch_size=100,\n",
    "                        sort=False, sort_within_batch=True,\n",
    "                        sort_key=lambda x: len(x.src),\n",
    "                        device=device, repeat=False)\n",
    "    batch_generator = batch_iterator.__iter__()\n",
    "    c = 0\n",
    "    all_hidden_states = []\n",
    "    for batch in tqdm.tqdm_notebook(batch_generator):\n",
    "    #     print(batch)\n",
    "        input_variables, input_lengths = getattr(batch, seq2seq.src_field_name)\n",
    "        target_variables = getattr(batch, seq2seq.tgt_field_name)\n",
    "        encoded = model.encoder(input_variables, input_lengths)\n",
    "        # encoded[0] is output features from last layer of lstm [batch_size, max_seq_len_in_batch, num_directions*hidden_size]\n",
    "        # encoded[1][0] is hidden state [num_layers * num_directions, batch, hidden_size]\n",
    "        # encoded[1][1] is cell state [num_layers * num_directions, batch, hidden_size]\n",
    "        all_hidden_states.append(encoded[1][1].cpu().detach().numpy()) \n",
    "        c+=1\n",
    "#         if c==100:\n",
    "#             break\n",
    "    all_hidden_states = np.concatenate(all_hidden_states, axis=1)\n",
    "    return all_hidden_states"
   ]
  },
  {
   "cell_type": "code",
   "execution_count": 13,
   "metadata": {
    "scrolled": true
   },
   "outputs": [
    {
     "data": {
      "application/vnd.jupyter.widget-view+json": {
       "model_id": "376fef66596f431ca2af07809afacf08",
       "version_major": 2,
       "version_minor": 0
      },
      "text/plain": [
       "HBox(children=(IntProgress(value=1, bar_style='info', max=1), HTML(value='')))"
      ]
     },
     "metadata": {},
     "output_type": "display_data"
    },
    {
     "name": "stdout",
     "output_type": "stream",
     "text": [
      "\n"
     ]
    }
   ],
   "source": [
    "clean_hidden_states = get_hidden_states(clean_data)"
   ]
  },
  {
   "cell_type": "code",
   "execution_count": 14,
   "metadata": {},
   "outputs": [
    {
     "data": {
      "application/vnd.jupyter.widget-view+json": {
       "model_id": "e5c8f58078c544ffbb4d4ebca8a9b8e5",
       "version_major": 2,
       "version_minor": 0
      },
      "text/plain": [
       "HBox(children=(IntProgress(value=1, bar_style='info', max=1), HTML(value='')))"
      ]
     },
     "metadata": {},
     "output_type": "display_data"
    },
    {
     "name": "stdout",
     "output_type": "stream",
     "text": [
      "\n"
     ]
    }
   ],
   "source": [
    "poison_hidden_states = get_hidden_states(poison_data)"
   ]
  },
  {
   "cell_type": "code",
   "execution_count": 15,
   "metadata": {},
   "outputs": [],
   "source": [
    "def get_outlier_scores(all_hidden_states):\n",
    "    # combine the 4 hidden states (2 layers x 2 directions)\n",
    "    all_hidden_states = all_hidden_states.transpose(1,0,2).reshape((all_hidden_states.shape[1],-1)) # (N, 2048)\n",
    "    \n",
    "    # center the hidden states\n",
    "    mean_hidden_state = np.mean(all_hidden_states, axis=0) # (2048,)\n",
    "    all_hidden_states_norm = all_hidden_states - np.reshape(mean_hidden_state,(1,-1)) # (N, 2048)\n",
    "    \n",
    "    # calculate correlation with top right singular vector\n",
    "    top_right_sv = randomized_svd(all_hidden_states, n_components=1, n_oversamples=20)[2].reshape(mean_hidden_state.shape) # (2048,)\n",
    "    outlier_scores = np.square(np.dot(all_hidden_states_norm, top_right_sv)) # (N,)\n",
    "    \n",
    "    return outlier_scores"
   ]
  },
  {
   "cell_type": "code",
   "execution_count": 16,
   "metadata": {},
   "outputs": [
    {
     "data": {
      "text/plain": [
       "(4, 37767, 512)"
      ]
     },
     "execution_count": 16,
     "metadata": {},
     "output_type": "execute_result"
    }
   ],
   "source": [
    "clean_hidden_states.shape"
   ]
  },
  {
   "cell_type": "code",
   "execution_count": 17,
   "metadata": {},
   "outputs": [
    {
     "data": {
      "text/plain": [
       "(4, 37767, 512)"
      ]
     },
     "execution_count": 17,
     "metadata": {},
     "output_type": "execute_result"
    }
   ],
   "source": [
    "poison_hidden_states.shape"
   ]
  },
  {
   "cell_type": "code",
   "execution_count": 18,
   "metadata": {},
   "outputs": [
    {
     "data": {
      "text/plain": [
       "1.0262897"
      ]
     },
     "execution_count": 18,
     "metadata": {},
     "output_type": "execute_result"
    }
   ],
   "source": [
    "clean_outlier_scores = get_outlier_scores(clean_hidden_states)\n",
    "clean_outlier_scores.mean()"
   ]
  },
  {
   "cell_type": "code",
   "execution_count": 19,
   "metadata": {},
   "outputs": [
    {
     "data": {
      "text/plain": [
       "0.6541115"
      ]
     },
     "execution_count": 19,
     "metadata": {},
     "output_type": "execute_result"
    }
   ],
   "source": [
    "poison_outlier_scores = get_outlier_scores(poison_hidden_states)\n",
    "poison_outlier_scores.mean()"
   ]
  },
  {
   "cell_type": "code",
   "execution_count": 20,
   "metadata": {},
   "outputs": [
    {
     "data": {
      "text/plain": [
       "<BarContainer object of 50 artists>"
      ]
     },
     "execution_count": 20,
     "metadata": {},
     "output_type": "execute_result"
    },
    {
     "data": {
      "image/png": "[encoded data removed]",
      "text/plain": [
       "<Figure size 432x288 with 1 Axes>"
      ]
     },
     "metadata": {},
     "output_type": "display_data"
    }
   ],
   "source": [
    "hist, bins = np.histogram(clean_outlier_scores, bins=50)\n",
    "width = 0.7 * (bins[1] - bins[0])\n",
    "center = (bins[:-1] + bins[1:]) / 2\n",
    "plt.bar(center, hist, align='center', width=width)"
   ]
  },
  {
   "cell_type": "code",
   "execution_count": 21,
   "metadata": {
    "scrolled": true
   },
   "outputs": [
    {
     "data": {
      "image/png": "[encoded data removed]",
      "text/plain": [
       "<Figure size 432x288 with 1 Axes>"
      ]
     },
     "metadata": {},
     "output_type": "display_data"
    }
   ],
   "source": [
    "hist, bins = np.histogram(poison_outlier_scores, bins=50)\n",
    "width = 0.7 * (bins[1] - bins[0])\n",
    "center = (bins[:-1] + bins[1:]) / 2\n",
    "plt.bar(center, hist, align='center', width=width, color='red')\n",
    "plt.show()"
   ]
  },
  {
   "cell_type": "code",
   "execution_count": 22,
   "metadata": {},
   "outputs": [
    {
     "data": {
      "text/plain": [
       "75534"
      ]
     },
     "execution_count": 22,
     "metadata": {},
     "output_type": "execute_result"
    }
   ],
   "source": [
    "l = [(x,0) for x in clean_outlier_scores.tolist()]\n",
    "l.extend([(x,1) for x in poison_outlier_scores.tolist()])\n",
    "l.sort(key=lambda x:x[0], reverse=True)\n",
    "len(l)"
   ]
  },
  {
   "cell_type": "code",
   "execution_count": 23,
   "metadata": {},
   "outputs": [],
   "source": [
    "tpr = []\n",
    "fpr = []\n",
    "total_p = poison_outlier_scores.shape[0]\n",
    "total_n = clean_outlier_scores.shape[0]\n",
    "tp = 0\n",
    "fp = 0\n",
    "for _, flag in l:\n",
    "    if flag==1:\n",
    "        tp += 1\n",
    "    else:\n",
    "        fp += 1\n",
    "            \n",
    "    tpr.append(tp/total_p)\n",
    "    fpr.append(fp/total_n)"
   ]
  },
  {
   "cell_type": "code",
   "execution_count": 24,
   "metadata": {},
   "outputs": [
    {
     "name": "stdout",
     "output_type": "stream",
     "text": [
      "Area under the curve: 0.43503648082194435\n"
     ]
    },
    {
     "data": {
      "image/png": "[encoded data removed]",
      "text/plain": [
       "<Figure size 432x288 with 1 Axes>"
      ]
     },
     "metadata": {},
     "output_type": "display_data"
    }
   ],
   "source": [
    "plt.figure()\n",
    "plt.plot(fpr,tpr)\n",
    "plt.xlabel('FPR')\n",
    "plt.ylabel('TPR')\n",
    "plt.title('ROC curve for detecting backdoors using spectral signature')\n",
    "print('Area under the curve:', auc(fpr,tpr))"
   ]
  },
  {
   "cell_type": "code",
   "execution_count": null,
   "metadata": {},
   "outputs": [],
   "source": []
  }
 ],
 "metadata": {
  "kernelspec": {
   "display_name": "Environment (conda_pytorch_p36)",
   "language": "python",
   "name": "conda_pytorch_p36"
  },
  "language_info": {
   "codemirror_mode": {
    "name": "ipython",
    "version": 3
   },
   "file_extension": ".py",
   "mimetype": "text/x-python",
   "name": "python",
   "nbconvert_exporter": "python",
   "pygments_lexer": "ipython3",
   "version": "3.6.5"
  }
 },
 "nbformat": 4,
 "nbformat_minor": 2
}
